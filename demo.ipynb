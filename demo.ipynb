{
 "cells": [
  {
   "cell_type": "code",
   "execution_count": 1,
   "metadata": {},
   "outputs": [
    {
     "name": "stdout",
     "output_type": "stream",
     "text": [
      "finished sad\n",
      "finished ssd\n"
     ]
    },
    {
     "name": "stderr",
     "output_type": "stream",
     "text": [
      "e:\\D\\University of Washington\\CSE455\\Project\\disparity.py:74: RuntimeWarning: invalid value encountered in true_divide\n",
      "  norm_cc = np.divide(cc, energy)\n"
     ]
    },
    {
     "name": "stdout",
     "output_type": "stream",
     "text": [
      "finished cc\n"
     ]
    },
    {
     "ename": "KeyboardInterrupt",
     "evalue": "",
     "output_type": "error",
     "traceback": [
      "\u001b[1;31m---------------------------------------------------------------------------\u001b[0m",
      "\u001b[1;31mKeyboardInterrupt\u001b[0m                         Traceback (most recent call last)",
      "\u001b[1;32me:\\D\\University of Washington\\CSE455\\Project\\demo.ipynb Cell 3'\u001b[0m in \u001b[0;36m<cell line: 20>\u001b[1;34m()\u001b[0m\n\u001b[0;32m     <a href='vscode-notebook-cell:/e%3A/D/University%20of%20Washington/CSE455/Project/demo.ipynb#ch0000002?line=17'>18</a>\u001b[0m \u001b[39mprint\u001b[39m(\u001b[39m'\u001b[39m\u001b[39mfinished cc\u001b[39m\u001b[39m'\u001b[39m)\n\u001b[0;32m     <a href='vscode-notebook-cell:/e%3A/D/University%20of%20Washington/CSE455/Project/demo.ipynb#ch0000002?line=18'>19</a>\u001b[0m solver_cc\u001b[39m.\u001b[39mdisparity_im\u001b[39m.\u001b[39msave(os\u001b[39m.\u001b[39mpath\u001b[39m.\u001b[39mjoin(folder, \u001b[39m'\u001b[39m\u001b[39mdisp_cc.png\u001b[39m\u001b[39m'\u001b[39m))\n\u001b[1;32m---> <a href='vscode-notebook-cell:/e%3A/D/University%20of%20Washington/CSE455/Project/demo.ipynb#ch0000002?line=19'>20</a>\u001b[0m solver_sad_monotonic \u001b[39m=\u001b[39m scan_graph_stereo_solver(im1, im2, \u001b[39m190\u001b[39;49m, \u001b[39m5\u001b[39;49m, scan_graph_sum_of_absolute_differences_optimizer)\n\u001b[0;32m     <a href='vscode-notebook-cell:/e%3A/D/University%20of%20Washington/CSE455/Project/demo.ipynb#ch0000002?line=20'>21</a>\u001b[0m \u001b[39mprint\u001b[39m(\u001b[39m'\u001b[39m\u001b[39mfinished sad monotonic\u001b[39m\u001b[39m'\u001b[39m)\n\u001b[0;32m     <a href='vscode-notebook-cell:/e%3A/D/University%20of%20Washington/CSE455/Project/demo.ipynb#ch0000002?line=21'>22</a>\u001b[0m solver_sad_monotonic\u001b[39m.\u001b[39mdisparity_im\u001b[39m.\u001b[39msave(os\u001b[39m.\u001b[39mpath\u001b[39m.\u001b[39mjoin(folder, \u001b[39m'\u001b[39m\u001b[39mdisp_sad_monotonic.png\u001b[39m\u001b[39m'\u001b[39m))\n",
      "File \u001b[1;32me:\\D\\University of Washington\\CSE455\\Project\\disparity.py:460\u001b[0m, in \u001b[0;36mscan_graph_stereo_solver.__init__\u001b[1;34m(self, im1, im2, ndisp, epsilon, optimizer)\u001b[0m\n\u001b[0;32m    <a href='file:///e%3A/D/University%20of%20Washington/CSE455/Project/disparity.py?line=456'>457</a>\u001b[0m optim \u001b[39m=\u001b[39m optimizer(ndisp, im1_fds, im2_fds)\n\u001b[0;32m    <a href='file:///e%3A/D/University%20of%20Washington/CSE455/Project/disparity.py?line=457'>458</a>\u001b[0m \u001b[39mfor\u001b[39;00m y \u001b[39min\u001b[39;00m \u001b[39mrange\u001b[39m(im1\u001b[39m.\u001b[39mheight):\n\u001b[0;32m    <a href='file:///e%3A/D/University%20of%20Washington/CSE455/Project/disparity.py?line=458'>459</a>\u001b[0m     \u001b[39m# Get the row disparity using the optimizer.\u001b[39;00m\n\u001b[1;32m--> <a href='file:///e%3A/D/University%20of%20Washington/CSE455/Project/disparity.py?line=459'>460</a>\u001b[0m     disp \u001b[39m=\u001b[39m optim\u001b[39m.\u001b[39;49moptimize(y)\n\u001b[0;32m    <a href='file:///e%3A/D/University%20of%20Washington/CSE455/Project/disparity.py?line=460'>461</a>\u001b[0m     \u001b[39mself\u001b[39m\u001b[39m.\u001b[39mdisparities[y] \u001b[39m=\u001b[39m disp\n\u001b[0;32m    <a href='file:///e%3A/D/University%20of%20Washington/CSE455/Project/disparity.py?line=462'>463</a>\u001b[0m \u001b[39m# Create the disparity image from the disparity matrix.\u001b[39;00m\n",
      "File \u001b[1;32me:\\D\\University of Washington\\CSE455\\Project\\disparity.py:232\u001b[0m, in \u001b[0;36mscan_graph_optimizer.optimize\u001b[1;34m(self, y)\u001b[0m\n\u001b[0;32m    <a href='file:///e%3A/D/University%20of%20Washington/CSE455/Project/disparity.py?line=228'>229</a>\u001b[0m     G\u001b[39m.\u001b[39madd_edge(\u001b[39mstr\u001b[39m(x) \u001b[39m+\u001b[39m \u001b[39m'\u001b[39m\u001b[39m-\u001b[39m\u001b[39m'\u001b[39m \u001b[39m+\u001b[39m \u001b[39mstr\u001b[39m(i), \u001b[39m\"\u001b[39m\u001b[39mend\u001b[39m\u001b[39m\"\u001b[39m, weight\u001b[39m=\u001b[39m\u001b[39m0\u001b[39m)\n\u001b[0;32m    <a href='file:///e%3A/D/University%20of%20Washington/CSE455/Project/disparity.py?line=230'>231</a>\u001b[0m \u001b[39m# Solve for a min-cost path through G.\u001b[39;00m\n\u001b[1;32m--> <a href='file:///e%3A/D/University%20of%20Washington/CSE455/Project/disparity.py?line=231'>232</a>\u001b[0m path \u001b[39m=\u001b[39m nx\u001b[39m.\u001b[39;49mshortest_path(G, \u001b[39m\"\u001b[39;49m\u001b[39mstart\u001b[39;49m\u001b[39m\"\u001b[39;49m, \u001b[39m\"\u001b[39;49m\u001b[39mend\u001b[39;49m\u001b[39m\"\u001b[39;49m, \u001b[39m\"\u001b[39;49m\u001b[39mweight\u001b[39;49m\u001b[39m\"\u001b[39;49m)\n\u001b[0;32m    <a href='file:///e%3A/D/University%20of%20Washington/CSE455/Project/disparity.py?line=233'>234</a>\u001b[0m \u001b[39massert\u001b[39;00m \u001b[39mlen\u001b[39m(path) \u001b[39m==\u001b[39m width \u001b[39m+\u001b[39m \u001b[39m2\u001b[39m\n\u001b[0;32m    <a href='file:///e%3A/D/University%20of%20Washington/CSE455/Project/disparity.py?line=235'>236</a>\u001b[0m \u001b[39m# Fill the return array of disparities.\u001b[39;00m\n",
      "File \u001b[1;32m~\\anaconda3\\envs\\cse455\\lib\\site-packages\\networkx\\algorithms\\shortest_paths\\generic.py:167\u001b[0m, in \u001b[0;36mshortest_path\u001b[1;34m(G, source, target, weight, method)\u001b[0m\n\u001b[0;32m    <a href='file:///c%3A/Users/micha/anaconda3/envs/cse455/lib/site-packages/networkx/algorithms/shortest_paths/generic.py?line=164'>165</a>\u001b[0m     paths \u001b[39m=\u001b[39m nx\u001b[39m.\u001b[39mbidirectional_shortest_path(G, source, target)\n\u001b[0;32m    <a href='file:///c%3A/Users/micha/anaconda3/envs/cse455/lib/site-packages/networkx/algorithms/shortest_paths/generic.py?line=165'>166</a>\u001b[0m \u001b[39melif\u001b[39;00m method \u001b[39m==\u001b[39m \u001b[39m\"\u001b[39m\u001b[39mdijkstra\u001b[39m\u001b[39m\"\u001b[39m:\n\u001b[1;32m--> <a href='file:///c%3A/Users/micha/anaconda3/envs/cse455/lib/site-packages/networkx/algorithms/shortest_paths/generic.py?line=166'>167</a>\u001b[0m     _, paths \u001b[39m=\u001b[39m nx\u001b[39m.\u001b[39;49mbidirectional_dijkstra(G, source, target, weight)\n\u001b[0;32m    <a href='file:///c%3A/Users/micha/anaconda3/envs/cse455/lib/site-packages/networkx/algorithms/shortest_paths/generic.py?line=167'>168</a>\u001b[0m \u001b[39melse\u001b[39;00m:  \u001b[39m# method == 'bellman-ford':\u001b[39;00m\n\u001b[0;32m    <a href='file:///c%3A/Users/micha/anaconda3/envs/cse455/lib/site-packages/networkx/algorithms/shortest_paths/generic.py?line=168'>169</a>\u001b[0m     paths \u001b[39m=\u001b[39m nx\u001b[39m.\u001b[39mbellman_ford_path(G, source, target, weight)\n",
      "File \u001b[1;32m~\\anaconda3\\envs\\cse455\\lib\\site-packages\\networkx\\algorithms\\shortest_paths\\weighted.py:2352\u001b[0m, in \u001b[0;36mbidirectional_dijkstra\u001b[1;34m(G, source, target, weight)\u001b[0m\n\u001b[0;32m   <a href='file:///c%3A/Users/micha/anaconda3/envs/cse455/lib/site-packages/networkx/algorithms/shortest_paths/weighted.py?line=2347'>2348</a>\u001b[0m     \u001b[39mreturn\u001b[39;00m (finaldist, finalpath)\n\u001b[0;32m   <a href='file:///c%3A/Users/micha/anaconda3/envs/cse455/lib/site-packages/networkx/algorithms/shortest_paths/weighted.py?line=2349'>2350</a>\u001b[0m \u001b[39mfor\u001b[39;00m w, d \u001b[39min\u001b[39;00m neighs[\u001b[39mdir\u001b[39m][v]\u001b[39m.\u001b[39mitems():\n\u001b[0;32m   <a href='file:///c%3A/Users/micha/anaconda3/envs/cse455/lib/site-packages/networkx/algorithms/shortest_paths/weighted.py?line=2350'>2351</a>\u001b[0m     \u001b[39m# weight(v, w, d) for forward and weight(w, v, d) for back direction\u001b[39;00m\n\u001b[1;32m-> <a href='file:///c%3A/Users/micha/anaconda3/envs/cse455/lib/site-packages/networkx/algorithms/shortest_paths/weighted.py?line=2351'>2352</a>\u001b[0m     cost \u001b[39m=\u001b[39m weight(v, w, d) \u001b[39mif\u001b[39;00m \u001b[39mdir\u001b[39m \u001b[39m==\u001b[39m \u001b[39m0\u001b[39m \u001b[39melse\u001b[39;00m weight(w, v, d)\n\u001b[0;32m   <a href='file:///c%3A/Users/micha/anaconda3/envs/cse455/lib/site-packages/networkx/algorithms/shortest_paths/weighted.py?line=2352'>2353</a>\u001b[0m     \u001b[39mif\u001b[39;00m cost \u001b[39mis\u001b[39;00m \u001b[39mNone\u001b[39;00m:\n\u001b[0;32m   <a href='file:///c%3A/Users/micha/anaconda3/envs/cse455/lib/site-packages/networkx/algorithms/shortest_paths/weighted.py?line=2353'>2354</a>\u001b[0m         \u001b[39mcontinue\u001b[39;00m\n",
      "File \u001b[1;32m~\\anaconda3\\envs\\cse455\\lib\\site-packages\\networkx\\algorithms\\shortest_paths\\weighted.py:78\u001b[0m, in \u001b[0;36m_weight_function.<locals>.<lambda>\u001b[1;34m(u, v, data)\u001b[0m\n\u001b[0;32m     <a href='file:///c%3A/Users/micha/anaconda3/envs/cse455/lib/site-packages/networkx/algorithms/shortest_paths/weighted.py?line=75'>76</a>\u001b[0m \u001b[39mif\u001b[39;00m G\u001b[39m.\u001b[39mis_multigraph():\n\u001b[0;32m     <a href='file:///c%3A/Users/micha/anaconda3/envs/cse455/lib/site-packages/networkx/algorithms/shortest_paths/weighted.py?line=76'>77</a>\u001b[0m     \u001b[39mreturn\u001b[39;00m \u001b[39mlambda\u001b[39;00m u, v, d: \u001b[39mmin\u001b[39m(attr\u001b[39m.\u001b[39mget(weight, \u001b[39m1\u001b[39m) \u001b[39mfor\u001b[39;00m attr \u001b[39min\u001b[39;00m d\u001b[39m.\u001b[39mvalues())\n\u001b[1;32m---> <a href='file:///c%3A/Users/micha/anaconda3/envs/cse455/lib/site-packages/networkx/algorithms/shortest_paths/weighted.py?line=77'>78</a>\u001b[0m \u001b[39mreturn\u001b[39;00m \u001b[39mlambda\u001b[39;00m u, v, data: data\u001b[39m.\u001b[39;49mget(weight, \u001b[39m1\u001b[39;49m)\n",
      "\u001b[1;31mKeyboardInterrupt\u001b[0m: "
     ]
    }
   ],
   "source": [
    "from PIL import Image\n",
    "import os\n",
    "from disparity import *\n",
    "from sliding_window import *\n",
    "\n",
    "folder = './data/tsukuba'\n",
    "\n",
    "im1 = Image.open(os.path.join(folder, 'im2.png'))\n",
    "im2 = Image.open(os.path.join(folder, 'im3.png'))\n",
    "\n",
    "solver_sad = window_stereo_solver(im1, im2, 190, 5, window_sum_of_absolute_differences_optimizer)\n",
    "print('finished sad')\n",
    "solver_sad.disparity_im.save(os.path.join(folder, 'disp_sad.png'))\n",
    "solver_ssd = window_stereo_solver(im1, im2, 190, 5, window_sum_of_squared_differences_optimizer)\n",
    "print('finished ssd')\n",
    "solver_ssd.disparity_im.save(os.path.join(folder, 'disp_ssd.png'))\n",
    "solver_cc = window_stereo_solver(im1, im2, 190, 5, window_cross_correlation_optimizer)\n",
    "print('finished cc')\n",
    "solver_cc.disparity_im.save(os.path.join(folder, 'disp_cc.png'))\n",
    "solver_sad_monotonic = scan_graph_stereo_solver(im1, im2, 190, 5, scan_graph_sum_of_absolute_differences_optimizer)\n",
    "print('finished sad monotonic')\n",
    "solver_sad_monotonic.disparity_im.save(os.path.join(folder, 'disp_sad_monotonic.png'))\n",
    "solver_ssd_monotonic = scan_graph_stereo_solver(im1, im2, 190, 5, scan_graph_sum_of_squared_differences_optimizer)\n",
    "print('finished ssd monotonic')\n",
    "solver_ssd_monotonic.disparity_im.save(os.path.join(folder, 'disp_ssd_monotonic.png'))\n",
    "solver_cc_monotonic = scan_graph_stereo_solver(im1, im2, 190, 5, scan_graph_cross_correlation_optimizer)\n",
    "print('finished cc monotonic')\n",
    "solver_cc_monotonic.disparity_im.save(os.path.join(folder, 'disp_cc_monotonic.png'))\n",
    "solver_gc = swap_graph_cut_stereo_solver(im1, im2, 190, 5, 1)\n",
    "print('finished gc')\n",
    "solver_gc.disparity_im.save(os.path.join(folder, 'disp_gc.png'))"
   ]
  }
 ],
 "metadata": {
  "interpreter": {
   "hash": "c1716ca6f2457da567ed1fcc04c1bcebe45e346ca2943d65ea48abdfc65003d2"
  },
  "kernelspec": {
   "display_name": "Python 3.10.2 ('cse455')",
   "language": "python",
   "name": "python3"
  },
  "language_info": {
   "codemirror_mode": {
    "name": "ipython",
    "version": 3
   },
   "file_extension": ".py",
   "mimetype": "text/x-python",
   "name": "python",
   "nbconvert_exporter": "python",
   "pygments_lexer": "ipython3",
   "version": "3.10.2"
  },
  "orig_nbformat": 4
 },
 "nbformat": 4,
 "nbformat_minor": 2
}
